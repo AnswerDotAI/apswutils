{
 "cells": [
  {
   "cell_type": "code",
   "execution_count": null,
   "metadata": {},
   "outputs": [],
   "source": [
    "#| default_exp ext"
   ]
  },
  {
   "cell_type": "markdown",
   "metadata": {},
   "source": [
    "# ext\n",
    "> Extensions to improve what apswutils can do"
   ]
  },
  {
   "cell_type": "code",
   "execution_count": null,
   "metadata": {},
   "outputs": [],
   "source": [
    "#| export\n",
    "from fastcore.basics import AttrDict"
   ]
  },
  {
   "cell_type": "code",
   "execution_count": null,
   "metadata": {},
   "outputs": [],
   "source": [
    "#| export\n",
    "class AttrDictRowFactory:\n",
    "    \"\"\"Returns each row as a :mod:`dataclass <dataclasses>`, accessible by column name.\n",
    "\n",
    "    To use set an instance as :attr:`Connection.row_trace\n",
    "    <apsw.Connection.row_trace>` to affect all :class:`cursors\n",
    "    <apsw.Cursor>`, or on a specific cursor::\n",
    "\n",
    "        connection.row_trace = apsw.ext.AttrDictRowFactory()\n",
    "        for row in connection.execute(\"SELECT title, sum(orders) AS total, ...\"):\n",
    "            # You can now access by attribute\n",
    "            print(row.title, row.total)\n",
    "            # You can now access by dict notation\n",
    "            print(row['title'], row['total'])\n",
    "            # Equality is as if rows were dicts\n",
    "            assert row == {'title': 'AnswerDotAI', 'total': 8000000}\n",
    "\n",
    "    You can use as many instances of this class as you want, each across as many\n",
    "    :class:`connections <apsw.Connection>` as you want.\n",
    "    \"\"\"\n",
    "\n",
    "    def __call__(self, cursor, row) -> AttrDict:\n",
    "        \"\"\"What the row tracer calls\n",
    "\n",
    "        Returns an AttrDict representation of each row\n",
    "        \"\"\"\n",
    "        columns = [d[0] for d in cursor.get_description()]\n",
    "        return AttrDict(dict(zip(columns, row)))"
   ]
  },
  {
   "cell_type": "code",
   "execution_count": null,
   "metadata": {},
   "outputs": [],
   "source": []
  }
 ],
 "metadata": {
  "kernelspec": {
   "display_name": "python3",
   "language": "python",
   "name": "python3"
  }
 },
 "nbformat": 4,
 "nbformat_minor": 2
}
