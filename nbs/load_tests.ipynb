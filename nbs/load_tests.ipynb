{
 "cells": [
  {
   "cell_type": "markdown",
   "id": "0446d834",
   "metadata": {},
   "source": [
    "# Load tests\n",
    "\n",
    "> Performance testing for apswutils using different configuration"
   ]
  },
  {
   "cell_type": "markdown",
   "id": "03c8fc1f",
   "metadata": {},
   "source": [
    "Plan: \n",
    "\n",
    "1. Create a single db load test that uses threading to perform a high volume of writes and some reads to replicate behavior under load by many users. Lock errors will be append to a simple text file called 'lock-errors.txt'\n",
    "2. Extract that from the cell and feed that into timeit and/or cProfile in another cell"
   ]
  },
  {
   "cell_type": "code",
   "execution_count": null,
   "id": "c28db89e",
   "metadata": {},
   "outputs": [],
   "source": [
    "import threading\n",
    "import random\n",
    "from pathlib import Path\n",
    "from string import ascii_letters\n",
    "from apswutils.db import *\n",
    "import inspect"
   ]
  },
  {
   "cell_type": "code",
   "execution_count": null,
   "id": "2723579a",
   "metadata": {},
   "outputs": [],
   "source": [
    "db = Database(\"load.db\")"
   ]
  },
  {
   "cell_type": "code",
   "execution_count": null,
   "id": "b6f315ac",
   "metadata": {},
   "outputs": [],
   "source": [
    "for t in db.tables: t.drop()"
   ]
  },
  {
   "cell_type": "code",
   "execution_count": null,
   "id": "d0646b18",
   "metadata": {},
   "outputs": [
    {
     "data": {
      "text/plain": [
       "<Table Users (does not exist yet)>"
      ]
     },
     "execution_count": null,
     "metadata": {},
     "output_type": "execute_result"
    }
   ],
   "source": [
    "users = Table(db, 'Users')\n",
    "users"
   ]
  },
  {
   "cell_type": "code",
   "execution_count": null,
   "id": "7423ae31",
   "metadata": {},
   "outputs": [
    {
     "data": {
      "text/plain": [
       "<Table Users (id, name)>"
      ]
     },
     "execution_count": null,
     "metadata": {},
     "output_type": "execute_result"
    }
   ],
   "source": [
    "users.create(columns=dict(id=int, name=str), transform=True, pk='id')\n",
    "users"
   ]
  },
  {
   "cell_type": "code",
   "execution_count": null,
   "id": "f1476bfb",
   "metadata": {},
   "outputs": [
    {
     "data": {
      "text/plain": [
       "'lrGZVyXEEU'"
      ]
     },
     "execution_count": null,
     "metadata": {},
     "output_type": "execute_result"
    }
   ],
   "source": [
    "def get_random_name(length=10):\n",
    "    return ''.join(random.choice(ascii_letters) for _ in range(length))\n",
    "get_random_name()"
   ]
  },
  {
   "cell_type": "code",
   "execution_count": null,
   "id": "117629a1",
   "metadata": {},
   "outputs": [],
   "source": [
    "def get_user(id): return users.get(id)\n",
    "def set_user(id,name): return users.insert({'name':name},pk='id')"
   ]
  },
  {
   "cell_type": "code",
   "execution_count": null,
   "id": "1976b770",
   "metadata": {},
   "outputs": [],
   "source": [
    "def db_worker():\n",
    "    record = set_user(random.randint(1,1000), get_random_name()).result[0]\n",
    "    record['type'] = 'write'\n",
    "    return record"
   ]
  },
  {
   "cell_type": "code",
   "execution_count": null,
   "id": "a8bb4095",
   "metadata": {},
   "outputs": [
    {
     "data": {
      "text/plain": [
       "{'id': 11612, 'name': 'nqfVLiFKwl', 'type': 'write'}"
      ]
     },
     "execution_count": null,
     "metadata": {},
     "output_type": "execute_result"
    }
   ],
   "source": [
    "db_worker()"
   ]
  },
  {
   "cell_type": "code",
   "execution_count": null,
   "id": "4ff89700",
   "metadata": {},
   "outputs": [],
   "source": [
    "def db_worker_batch(size=20):\n",
    "    for i in range(size): db_worker()"
   ]
  },
  {
   "cell_type": "code",
   "execution_count": null,
   "id": "d36eb83a",
   "metadata": {},
   "outputs": [],
   "source": [
    "def run_concurrent_workers(n_threads=10):\n",
    "    print(users.count)\n",
    "    threads = []\n",
    "    for _ in range(n_threads):\n",
    "        t = threading.Thread(target=db_worker_batch)\n",
    "        threads.append(t)\n",
    "        t.start()\n",
    "    \n",
    "    for t in threads:\n",
    "        t.join()\n",
    "    print(users.count)"
   ]
  },
  {
   "cell_type": "code",
   "execution_count": null,
   "id": "86ab4bd7",
   "metadata": {},
   "outputs": [
    {
     "name": "stdout",
     "output_type": "stream",
     "text": [
      "101612\n",
      "151612\n"
     ]
    }
   ],
   "source": [
    "run_concurrent_workers(5000)"
   ]
  },
  {
   "cell_type": "code",
   "execution_count": null,
   "id": "c07520e3",
   "metadata": {},
   "outputs": [],
   "source": []
  }
 ],
 "metadata": {
  "kernelspec": {
   "display_name": "python3",
   "language": "python",
   "name": "python3"
  }
 },
 "nbformat": 4,
 "nbformat_minor": 5
}
